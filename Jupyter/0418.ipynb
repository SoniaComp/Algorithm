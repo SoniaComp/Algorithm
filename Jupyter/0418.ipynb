{
 "cells": [
  {
   "cell_type": "code",
   "execution_count": 3,
   "metadata": {},
   "outputs": [],
   "source": [
    "def selection_sort(arr):\n",
    "    # 가장 작은 애를 앞에 세움\n",
    "    for i in range(len(arr)-1):\n",
    "        min_idx = i\n",
    "        for j in range(i+1, len(arr)):\n",
    "            if arr[j] < arr[min_idx]:\n",
    "                min_idx = j\n",
    "        arr[i], arr[min_idx] = arr[min_idx], arr[i]\n",
    "    return arr"
   ]
  },
  {
   "cell_type": "code",
   "execution_count": 4,
   "metadata": {},
   "outputs": [
    {
     "data": {
      "text/plain": [
       "[1, 1, 2, 3, 4, 5, 7]"
      ]
     },
     "execution_count": 4,
     "metadata": {},
     "output_type": "execute_result"
    }
   ],
   "source": [
    "a = [1,5,7,2,3,4,1]\n",
    "selection_sort(a)"
   ]
  },
  {
   "cell_type": "code",
   "execution_count": 7,
   "metadata": {},
   "outputs": [],
   "source": [
    "# 거품정렬은 겊무으로 나아가서 맨 뒤부터 완성\n",
    "def bubble_sort(arr):\n",
    "    for i in range(len(arr)-1):\n",
    "        for j in range(len(arr)-1-i):\n",
    "            if arr[i+j] > arr[i+j+1]:\n",
    "                arr[i+j], arr[i+j+1] = arr[i+j+1], arr[i+j]\n",
    "    return arr"
   ]
  },
  {
   "cell_type": "code",
   "execution_count": 19,
   "metadata": {},
   "outputs": [
    {
     "data": {
      "text/plain": [
       "[1, 1, 2, 3, 4, 5, 7]"
      ]
     },
     "execution_count": 19,
     "metadata": {},
     "output_type": "execute_result"
    }
   ],
   "source": [
    "bubble_sort(a)"
   ]
  },
  {
   "cell_type": "code",
   "execution_count": 13,
   "metadata": {},
   "outputs": [],
   "source": [
    "def bubble_sort(arr):\n",
    "    swapped = False\n",
    "    for i in range(len(arr)-1, 0, -1):\n",
    "        for j in range(i):\n",
    "            if arr[j] > arr[j+1]:\n",
    "                arr[j], arr[j+1] = arr[j+1], arr[j]\n",
    "                swapped = True\n",
    "        if not swapped:\n",
    "            break\n",
    "    return arr"
   ]
  },
  {
   "cell_type": "code",
   "execution_count": 18,
   "metadata": {},
   "outputs": [],
   "source": [
    "def bubble_sort(arr):\n",
    "    end = len(arr)-1\n",
    "    while end > 0:\n",
    "        last_swap = 0\n",
    "        for j in range(end):\n",
    "            if arr[j] > arr[j+1]:\n",
    "                arr[j], arr[j+1] = arr[j+1], arr[j]\n",
    "                last_swap = j\n",
    "        end = last_swap\n",
    "    return arr"
   ]
  },
  {
   "cell_type": "code",
   "execution_count": 32,
   "metadata": {},
   "outputs": [],
   "source": [
    "def insertion_sort(arr):\n",
    "    for end in range(1, len(arr)):\n",
    "        for i in range(end, 0, -1):\n",
    "            if arr[i-1] > arr[i]:\n",
    "                arr[i-1], arr[i] = arr[i], arr[i-1]\n",
    "        print(arr[:end])\n",
    "    return arr "
   ]
  },
  {
   "cell_type": "code",
   "execution_count": 36,
   "metadata": {},
   "outputs": [],
   "source": [
    "def insertion_sort(arr):\n",
    "    for end in range(1, len(arr)):\n",
    "        i = end\n",
    "        while i > 0 and arr[i-1] > arr[i]:\n",
    "            arr[i-1], arr[i] = arr[i], arr[i-1]\n",
    "            i -= 1\n",
    "    return arr"
   ]
  },
  {
   "cell_type": "code",
   "execution_count": 38,
   "metadata": {},
   "outputs": [],
   "source": [
    "def insertion_sort(arr):\n",
    "    for end in range(1, len(arr)):\n",
    "        to_insert = arr[end]\n",
    "        i = end\n",
    "        while i > 0 and arr[i-1] > to_insert:\n",
    "            arr[i] = arr[i-1]\n",
    "            i -= 1\n",
    "        arr[i] = to_insert\n",
    "    return arr"
   ]
  },
  {
   "cell_type": "code",
   "execution_count": 39,
   "metadata": {},
   "outputs": [
    {
     "data": {
      "text/plain": [
       "[1, 1, 2, 3, 4, 5, 7]"
      ]
     },
     "execution_count": 39,
     "metadata": {},
     "output_type": "execute_result"
    }
   ],
   "source": [
    "a = [1,5,7,2,3,4,1]\n",
    "insertion_sort(a)"
   ]
  },
  {
   "cell_type": "code",
   "execution_count": null,
   "metadata": {},
   "outputs": [],
   "source": [
    "# Definition for singly-linked list.\n",
    "class ListNode:\n",
    "    def __init__(self, val=0, next=None):\n",
    "        self.val = val\n",
    "        self.next = next\n",
    "\n",
    "class Solution:\n",
    "    def reverseList(self, head: ListNode) -> ListNode:\n",
    "        # prev node node.next\n",
    "        # node.next node prev\n",
    "#         prev, node = None, head\n",
    "        \n",
    "#         while node:\n",
    "#             node_next, node.next = node.next, prev\n",
    "#             # 다음 진행\n",
    "#             prev, node = node, node_next\n",
    "#             # tail, None\n",
    "        \n",
    "#         return prev\n",
    "\n",
    "#         def reverse(prev, node):\n",
    "#             if not node:\n",
    "#                 return prev\n",
    "#             node_next, node.next = node.next, prev\n",
    "#             return reverse(node, node_next)\n",
    "\n",
    "#         return reverse(None, head)\n",
    "        '''\n",
    "        prev node node.next\n",
    "        node.next node prev\n",
    "        각각의 노드\n",
    "        # node.next 따로 순차적으로 유지할 수 있게\n",
    "        '''\n",
    "        # prev, cur = None, head\n",
    "        # while cur:\n",
    "        #     cur.next, next_node = prev, cur.next # 여기서 주어진 연결리스트는 방향이 1개\n",
    "        #     cur, prev = next_node, cur\n",
    "        # # none head tail none --> cur: none, prev: tail\n",
    "        # return prev\n",
    "        \n",
    "        def reverse(prev, cur):\n",
    "            if not cur:\n",
    "                return prev\n",
    "            node_next, cur.next = cur.next, prev\n",
    "            cur, prev = node_next, cur\n",
    "            return reverse(prev, cur)\n",
    "    \n",
    "        return reverse(None, head)"
   ]
  },
  {
   "cell_type": "code",
   "execution_count": null,
   "metadata": {},
   "outputs": [],
   "source": []
  }
 ],
 "metadata": {
  "kernelspec": {
   "display_name": "Python 3",
   "language": "python",
   "name": "python3"
  },
  "language_info": {
   "codemirror_mode": {
    "name": "ipython",
    "version": 3
   },
   "file_extension": ".py",
   "mimetype": "text/x-python",
   "name": "python",
   "nbconvert_exporter": "python",
   "pygments_lexer": "ipython3",
   "version": "3.8.3"
  }
 },
 "nbformat": 4,
 "nbformat_minor": 4
}
